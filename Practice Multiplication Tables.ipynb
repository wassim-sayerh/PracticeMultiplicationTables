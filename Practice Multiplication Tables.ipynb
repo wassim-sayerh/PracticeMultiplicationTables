{
 "cells": [
  {
   "cell_type": "markdown",
   "metadata": {},
   "source": [
    "# Import libraries "
   ]
  },
  {
   "cell_type": "code",
   "execution_count": 1,
   "metadata": {},
   "outputs": [],
   "source": [
    "from random import randint\n",
    "import time"
   ]
  },
  {
   "cell_type": "markdown",
   "metadata": {},
   "source": [
    "# Initializing variables and time count"
   ]
  },
  {
   "cell_type": "code",
   "execution_count": 2,
   "metadata": {},
   "outputs": [],
   "source": [
    "success = 0\n",
    "\n",
    "start_time = time.perf_counter()"
   ]
  },
  {
   "cell_type": "markdown",
   "metadata": {},
   "source": [
    "# Prompting user to number of rounds"
   ]
  },
  {
   "cell_type": "code",
   "execution_count": 3,
   "metadata": {},
   "outputs": [
    {
     "name": "stdout",
     "output_type": "stream",
     "text": [
      "How many times do you want to play? 10\n"
     ]
    }
   ],
   "source": [
    "ntimes = int(input(\"How many times do you want to play? \"))"
   ]
  },
  {
   "cell_type": "markdown",
   "metadata": {},
   "source": [
    "# Generate 4 1-12 integers and ask for the result of their multiplication"
   ]
  },
  {
   "cell_type": "code",
   "execution_count": 4,
   "metadata": {},
   "outputs": [
    {
     "name": "stdout",
     "output_type": "stream",
     "text": [
      "(0 + 1) * (4 - 5) = -1\n",
      "(11 + 1) * (7 - 1) = 72\n",
      "(11 + 1) * (4 - 6) = -24\n",
      "(0 + 10) * (7 - 3) = 40\n",
      "(11 - 0) * (7 + 0) = 77\n",
      "(10 + 1) * (6 - 3) = 33\n",
      "(7 - 4) * (6 + 3) = 27\n",
      "(10 - 1) * (7 + 1) = 72\n",
      "(8 + 1) * (7 - 1) = 54\n",
      "(0 + 3) * (5 - 6) = -3\n"
     ]
    }
   ],
   "source": [
    "for n in range(ntimes):\n",
    "    i = randint(0, 12)\n",
    "    j = randint(0, 12-i)\n",
    "    k = randint(0, 12)\n",
    "    l = randint(0, 12-k)\n",
    "    if randint(0, 1):\n",
    "        n = int(input(\"(\" + str(i) + \" - \" + str(j) + \") * (\"  + str(k) + \" + \" + str(l) + \") = \"))\n",
    "        if n == (i-j)*(k+l): success += 1\n",
    "        while n != (i-j)*(k+l):\n",
    "            n = int(input(\"WRONG! (\" + str(i) + \" - \" + str(j) + \") * (\"  + str(k) + \" + \" + str(l) + \") = \"))\n",
    "    else:\n",
    "        n = int(input(\"(\" + str(i) + \" + \" + str(j) + \") * (\"  + str(k) + \" - \" + str(l) + \") = \"))\n",
    "        if n == (i+j)*(k-l): success += 1\n",
    "        while n != (i+j)*(k-l):\n",
    "            n = int(input(\"WRONG! (\" + str(i) + \" + \" + str(j) + \") * (\"  + str(k) + \" - \" + str(l) + \") = \"))"
   ]
  },
  {
   "cell_type": "markdown",
   "metadata": {},
   "source": [
    "# Compute elapsed time"
   ]
  },
  {
   "cell_type": "code",
   "execution_count": 5,
   "metadata": {},
   "outputs": [],
   "source": [
    "elapsed_time = time.perf_counter() - start_time"
   ]
  },
  {
   "cell_type": "markdown",
   "metadata": {},
   "source": [
    "# Print results"
   ]
  },
  {
   "cell_type": "code",
   "execution_count": 6,
   "metadata": {},
   "outputs": [
    {
     "name": "stdout",
     "output_type": "stream",
     "text": [
      "> Score: 100.0%\n",
      "> Elapsed time: 51.75\n",
      "> Time per question: 5.18\n"
     ]
    }
   ],
   "source": [
    "print(\"> Score:\", str(success/ntimes*100) + \"%\")\n",
    "print(\"> Elapsed time:\", round(elapsed_time, 2))\n",
    "print(\"> Time per question:\", round(elapsed_time/ntimes, 2))\n"
   ]
  }
 ],
 "metadata": {
  "kernelspec": {
   "display_name": "Python 3",
   "language": "python",
   "name": "python3"
  },
  "language_info": {
   "codemirror_mode": {
    "name": "ipython",
    "version": 3
   },
   "file_extension": ".py",
   "mimetype": "text/x-python",
   "name": "python",
   "nbconvert_exporter": "python",
   "pygments_lexer": "ipython3",
   "version": "3.7.4"
  }
 },
 "nbformat": 4,
 "nbformat_minor": 2
}
